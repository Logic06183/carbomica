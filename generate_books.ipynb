{
 "cells": [
  {
   "cell_type": "code",
   "execution_count": 1,
   "id": "acute-break",
   "metadata": {},
   "outputs": [],
   "source": [
    "import sys\n",
    "sys.path.append('C:/Users/farah.houdroge/Documents/GitHub/atomica')\n",
    "import atomica as at\n",
    "import pandas as pd\n",
    "from utils import facilities, interventions\n",
    "'''\n",
    "Script to generate a databook and progbook.\n",
    "'''\n",
    "# Load Framework\n",
    "F = at.ProjectFramework('carbomica_framework.xlsx') "
   ]
  },
  {
   "cell_type": "code",
   "execution_count": 2,
   "id": "welcome-tackle",
   "metadata": {
    "title": "Step 1: generate databook"
   },
   "outputs": [],
   "source": [
    "data_years = 2023 # years for input data\n",
    "databook_name = 'books/carbomica_databook.xlsx' # databook name\n",
    "\n",
    "# Option to generate empty databook, or generate and populate databook\n",
    "\n",
    "gen_databook = False # 'True' if generating databooks, 'False' if generating progbooks\n",
    "\n",
    "if gen_databook :\n",
    "    D = at.ProjectData.new(F,data_years,pops=facilities,transfers=0)\n",
    "    D.save(databook_name)\n",
    "\n",
    "pop_databook = False # True if populating databook\n",
    "\n",
    "if pop_databook : \n",
    "    D = at.ProjectData.new(framework=F, tvec=data_years, pops=facilities, transfers=0)\n",
    "    db_data = pd.read_excel('input_data.xlsx', sheet_name='data', index_col='facilities')\n",
    "    for facility in facilities.keys():\n",
    "        for parameter in db_data.columns:\n",
    "            D.tdve[parameter].ts[facility] = at.TimeSeries(data_years, db_data.loc[facility,parameter], units='Number')\n",
    "            D.tdve[parameter].write_assumption = True\n",
    "    D.save(databook_name)"
   ]
  },
  {
   "cell_type": "code",
   "execution_count": 3,
   "id": "nominated-volunteer",
   "metadata": {
    "title": "Step 2: generate program books after filling in databook (note that progbook will not generate if data cells in databook are empty)"
   },
   "outputs": [
    {
     "name": "stdout",
     "output_type": "stream",
     "text": [
      "Object saved to C:\\Users\\farah.houdroge\\Documents\\GitHub\\carbomica\\books\\carbomica_progbook_aga-khan_hosp_KE.xlsx.\n",
      "Object saved to C:\\Users\\farah.houdroge\\Documents\\GitHub\\carbomica\\books\\carbomica_progbook_aga-khan_medi_KE.xlsx.\n",
      "Object saved to C:\\Users\\farah.houdroge\\Documents\\GitHub\\carbomica\\books\\carbomica_progbook_laudium_chc_SA.xlsx.\n",
      "Object saved to C:\\Users\\farah.houdroge\\Documents\\GitHub\\carbomica\\books\\carbomica_progbook_stanza-bopape_chc_SA.xlsx.\n",
      "Object saved to C:\\Users\\farah.houdroge\\Documents\\GitHub\\carbomica\\books\\carbomica_progbook_mamelodi_hosp_SA.xlsx.\n",
      "Object saved to C:\\Users\\farah.houdroge\\Documents\\GitHub\\carbomica\\books\\carbomica_progbook_mt-darwin_hosp_ZW.xlsx.\n",
      "Object saved to C:\\Users\\farah.houdroge\\Documents\\GitHub\\carbomica\\books\\carbomica_progbook_dotito_rhcc_ZW.xlsx.\n",
      "Object saved to C:\\Users\\farah.houdroge\\Documents\\GitHub\\carbomica\\books\\carbomica_progbook_chitse_rhcc_ZW.xlsx.\n"
     ]
    }
   ],
   "source": [
    "gen_progbook = False # 'True' if generating progbooks, 'False' if generating databooks\n",
    "\n",
    "if gen_progbook :\n",
    "    P = at.Project(framework=F,databook=databook_name, do_run=False)\n",
    "    for facility in facilities.keys():\n",
    "        progbook_path = 'files/carbomica_progbook_{}.xlsx'.format(facility)\n",
    "        P.make_progbook(progbook_path,progs=interventions,data_start=data_years,data_end=data_years)\n",
    "        \n",
    "# In order to populate the progbook, the empty progbooks that were just created (in files) are read in first\n",
    "pop_progbook = True\n",
    "\n",
    "if pop_progbook:\n",
    "    D = at.ProjectData.from_spreadsheet(databook_name,framework=F) \n",
    "    pb_costs = pd.read_excel('input_data.xlsx', sheet_name='unit_costs', index_col='facilities')  \n",
    "    for facility in facilities.keys():\n",
    "        P = at.ProgramSet.from_spreadsheet(spreadsheet='files/carbomica_progbook_{}.xlsx'.format(facility), framework=F, data=D, _allow_missing_data=True)\n",
    "        for intervention in interventions.keys():\n",
    "            P.programs[intervention].unit_cost = at.TimeSeries(assumption=pb_costs.loc[facility,intervention], units='$/person/year')\n",
    "            P.programs[intervention].spend_data = at.TimeSeries(data_years,0, units='$/year') # make it a small, negligible but non-zero number for optimisation\n",
    "            P.programs[intervention].capacity_constraint = at.TimeSeries(units='people')\n",
    "            P.programs[intervention].coverage = at.TimeSeries(units='people')\n",
    "        P.programs[intervention].spend_data = at.TimeSeries(data_years,1e-16, units='$/year') # make it a small, negligible but non-zero number for optimisation\n",
    "        P.save('books/carbomica_progbook_{}.xlsx'.format(facility))  "
   ]
  }
 ],
 "metadata": {
  "jupytext": {
   "cell_metadata_filter": "title,-all",
   "main_language": "python",
   "notebook_metadata_filter": "-all"
  },
  "kernelspec": {
   "display_name": "Python 3",
   "language": "python",
   "name": "python3"
  },
  "language_info": {
   "codemirror_mode": {
    "name": "ipython",
    "version": 3
   },
   "file_extension": ".py",
   "mimetype": "text/x-python",
   "name": "python",
   "nbconvert_exporter": "python",
   "pygments_lexer": "ipython3",
   "version": "3.8.5"
  }
 },
 "nbformat": 4,
 "nbformat_minor": 5
}
