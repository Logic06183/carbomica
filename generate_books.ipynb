{
 "cells": [
  {
   "cell_type": "code",
   "execution_count": null,
   "id": "unlimited-quick",
   "metadata": {},
   "outputs": [],
   "source": [
    "import sys\n",
    "sys.path.append('C:/Users/farah.houdroge/Documents/GitHub/atomica/') # modify to local path to atomica\n",
    "import atomica as at\n",
    "import numpy as np\n",
    "'''\n",
    "Script to generate a databook and progbook.\n",
    "'''\n",
    "# Load Framework\n",
    "F = at.ProjectFramework('files/carbomica_framework.xlsx') \n",
    "\n",
    "# Facilities (modify as needed)\n",
    "facilities = {\n",
    "    'aga-khan_hosp_KE': {'label': 'Aga Khan Hospital, Kenya', 'type': 'facilities'},\n",
    "    'aga-khan_medi_KE': {'label': 'Aga Khan Medical Centre, Kenya', 'type': 'facilities'},\n",
    "    'laudium_chc_SA': {'label': 'Laudium Community Health Centre, South Africa', 'type': 'facilities'},\n",
    "    'stanza-bopape_chc_SA': {'label': 'Stanza Bopape Community Health Centre, South Africa', 'type': 'facilities'},\n",
    "    'mamelodi_hosp_SA': {'label': 'Mamelodi Regional Hospital, South Africa', 'type': 'facilities'},\n",
    "    'mt-darwin_hosp_ZW': {'label': 'Mt Darwin District Hospital, Zimbabwe', 'type': 'facilities'},\n",
    "    'dotito_rhcc_ZW': {'label': 'Dotito Rural Health Care Clinic, Zimbabwe', 'type': 'facilities'},\n",
    "    'chitse_rhcc_ZW': {'label': 'Chitse Rural Health Care Clinic, Zimbabwe', 'type': 'facilities'}\n",
    "    }\n",
    "\n",
    "# Mitigation interventions (modify as needed)\n",
    "interventions = {\n",
    "    'energy_led': 'Energy saving LED',\n",
    "    'low_emit_mat': 'Low emitting materials',\n",
    "    'electric_cars': 'Electric cars',\n",
    "    'low_emit_gas': 'Low emitting anesthetic gases',\n",
    "    'borehole_water': 'Borehole water',\n",
    "    'recycle': 'Recycling',\n",
    "    'low_emit_inhale': 'Low emitting inhalers',\n",
    "    'local_procure': 'Local procurements'\n",
    "    }"
   ]
  },
  {
   "cell_type": "code",
   "execution_count": null,
   "id": "electoral-passport",
   "metadata": {
    "title": "Step 1: generate databook"
   },
   "outputs": [],
   "source": [
    "data_years = [2022,2023] # years for input data\n",
    "databook_name = 'files/carbomica_databook.xlsx' # databook name\n",
    "gen_databook = False # 'True' if generating databooks, 'False' if generating progbooks\n",
    "\n",
    "if gen_databook :\n",
    "    D = at.ProjectData.new(F,np.arange(data_years[0],data_years[1]),pops=facilities,transfers=0)\n",
    "    D.save(databook_name)"
   ]
  },
  {
   "cell_type": "code",
   "execution_count": null,
   "id": "correct-miracle",
   "metadata": {
    "title": "Step 2: generate program books after filling in databook (note that progbook will not generate if data cells in databook are empty)"
   },
   "outputs": [],
   "source": [
    "prog_years = [2024,2030] # program years\n",
    "nb_prog = 8 # number of programs\n",
    "gen_progbook = True # 'True' if generating progbooks, 'False' if generating databooks\n",
    "\n",
    "if gen_progbook :\n",
    "    P = at.Project(framework=F,databook=databook_name, do_run=False)\n",
    "    for facility in facilities.keys():\n",
    "        progbook_path = 'files/carbomica_progbook_{}.xlsx'.format(facility)\n",
    "        P.make_progbook(progbook_path,progs=interventions,data_start=prog_years[0],data_end=prog_years[1])"
   ]
  }
 ],
 "metadata": {
  "jupytext": {
   "cell_metadata_filter": "title,-all",
   "main_language": "python",
   "notebook_metadata_filter": "-all"
  },
  "kernelspec": {
   "display_name": "Python 3",
   "language": "python",
   "name": "python3"
  },
  "language_info": {
   "codemirror_mode": {
    "name": "ipython",
    "version": 3
   },
   "file_extension": ".py",
   "mimetype": "text/x-python",
   "name": "python",
   "nbconvert_exporter": "python",
   "pygments_lexer": "ipython3",
   "version": "3.8.5"
  }
 },
 "nbformat": 4,
 "nbformat_minor": 5
}
