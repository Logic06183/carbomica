{
 "cells": [
  {
   "cell_type": "code",
   "execution_count": 2,
   "id": "tutorial-hamilton",
   "metadata": {},
   "outputs": [
    {
     "data": {
      "text/plain": [
       "'\\nScript to run a scenario where spending on interventions is specified.\\n'"
      ]
     },
     "execution_count": 2,
     "metadata": {},
     "output_type": "execute_result"
    }
   ],
   "source": [
    "import sys\n",
    "sys.path.append('C:/Users/farah.houdroge/Documents/GitHub/atomica/') # modify to local path to atomica\n",
    "import atomica as at\n",
    "import utils as ut\n",
    "import os\n",
    "if not os.path.exists('results'): os.makedirs('results')\n",
    "if not os.path.exists('figs'): os.makedirs('figs')\n",
    "'''\n",
    "Script to run a scenario where spending on interventions is specified.\n",
    "'''"
   ]
  },
  {
   "cell_type": "code",
   "execution_count": 3,
   "id": "controversial-omaha",
   "metadata": {},
   "outputs": [],
   "source": [
    "facility_code = 'mt-darwin_hosp_ZW' # specify facility code\n",
    "facility_name = 'Mt Darwin District Hospital, Zimbabwe' # specify facility name"
   ]
  },
  {
   "cell_type": "code",
   "execution_count": 4,
   "id": "rough-wichita",
   "metadata": {},
   "outputs": [],
   "source": [
    "# Atomica project definition\n",
    "P = at.Project(framework='files/carbomica_framework.xlsx', databook='files/carbomica_databook.xlsx',do_run=False)"
   ]
  },
  {
   "cell_type": "code",
   "execution_count": 5,
   "id": "pregnant-flight",
   "metadata": {},
   "outputs": [],
   "source": [
    "P.settings.sim_dt    = 1 # simulation timestep\n",
    "P.settings.sim_start = 2010 # simulation start year\n",
    "P.settings.sim_end   = 2030 # simulation end year"
   ]
  },
  {
   "cell_type": "code",
   "execution_count": 6,
   "id": "academic-defensive",
   "metadata": {},
   "outputs": [],
   "source": [
    "# Load program and define variables for program runs\n",
    "progset = P.load_progbook('files/carbomica_progbook_{}.xlsx'.format(facility_code))"
   ]
  },
  {
   "cell_type": "code",
   "execution_count": 7,
   "id": "patent-corps",
   "metadata": {},
   "outputs": [],
   "source": [
    "start_year = 2024 # programs start year\n",
    "investment = 1e5 # initial investment (can be a list)"
   ]
  },
  {
   "cell_type": "code",
   "execution_count": 8,
   "id": "harmful-processor",
   "metadata": {},
   "outputs": [],
   "source": [
    "# Option 1: increase investments for all interventions\n",
    "budget_scenario = {prog: at.TimeSeries(start_year,investment) for prog in progset.programs.keys()}    "
   ]
  },
  {
   "cell_type": "markdown",
   "id": "italian-interview",
   "metadata": {},
   "source": [
    "Option 2: increase investments for specific interventions\n",
    "budget_scenario = {'energy_led': at.TimeSeries(start_year,investment),\n",
    "                     'electric_cars': at.TimeSeries(start_year,investment)\n",
    "                     }"
   ]
  },
  {
   "cell_type": "code",
   "execution_count": 9,
   "id": "tired-theory",
   "metadata": {},
   "outputs": [
    {
     "name": "stdout",
     "output_type": "stream",
     "text": [
      "Elapsed time for running \"default\": 0.0496s\n"
     ]
    }
   ],
   "source": [
    "instructions = at.ProgramInstructions(start_year=start_year, alloc=budget_scenario) # define program instructions\n",
    "result_budget = P.run_sim(P.parsets[0],progset=P.progsets[0], progset_instructions=instructions, result_name=facility_name) # run budget scenario"
   ]
  },
  {
   "cell_type": "code",
   "execution_count": 10,
   "id": "architectural-experience",
   "metadata": {
    "lines_to_next_cell": 2
   },
   "outputs": [
    {
     "data": {
      "text/plain": [
       "<Figure size 432x288 with 0 Axes>"
      ]
     },
     "metadata": {},
     "output_type": "display_data"
    },
    {
     "data": {
      "image/png": "[encoded data removed]",
      "text/plain": [
       "<Figure size 432x288 with 1 Axes>"
      ]
     },
     "metadata": {
      "needs_background": "light"
     },
     "output_type": "display_data"
    },
    {
     "name": "stdout",
     "output_type": "stream",
     "text": [
      "Emissions results saved: results/emissions_budget_scen_mt-darwin_hosp_ZW.xlsx\n",
      "Emissions bar plots saved: figs/emissions_budget_scen_mt-darwin_hosp_ZW.xlsx\n"
     ]
    },
    {
     "data": {
      "text/html": [
       "<div>\n",
       "<style scoped>\n",
       "    .dataframe tbody tr th:only-of-type {\n",
       "        vertical-align: middle;\n",
       "    }\n",
       "\n",
       "    .dataframe tbody tr th {\n",
       "        vertical-align: top;\n",
       "    }\n",
       "\n",
       "    .dataframe thead th {\n",
       "        text-align: right;\n",
       "    }\n",
       "</style>\n",
       "<table border=\"1\" class=\"dataframe\">\n",
       "  <thead>\n",
       "    <tr style=\"text-align: right;\">\n",
       "      <th></th>\n",
       "      <th>SC1 Building energy</th>\n",
       "      <th>SC1 Travel</th>\n",
       "      <th>SC1 Refrigerants</th>\n",
       "      <th>SC1 Waste</th>\n",
       "      <th>SC1 Anaesthetic gases</th>\n",
       "      <th>SC2 Purchased and consumed grid electricity</th>\n",
       "      <th>SC2 Heat networks</th>\n",
       "      <th>SC3 Building energy (building not owned)</th>\n",
       "      <th>SC3 Refrigerants (building not owned)</th>\n",
       "      <th>SC3 Travel (vehicles not owned)</th>\n",
       "      <th>SC3 Employee business travel-road, rail, air</th>\n",
       "      <th>SC3 Water</th>\n",
       "      <th>SC3 Waste</th>\n",
       "      <th>SC3 Contractor logistics</th>\n",
       "      <th>SC3 Inhalers</th>\n",
       "      <th>SC3 Supply chain</th>\n",
       "    </tr>\n",
       "  </thead>\n",
       "  <tbody>\n",
       "    <tr>\n",
       "      <th>Status-quo</th>\n",
       "      <td>0.31</td>\n",
       "      <td>2.0</td>\n",
       "      <td>0.0</td>\n",
       "      <td>0.49</td>\n",
       "      <td>0.51</td>\n",
       "      <td>2.45</td>\n",
       "      <td>0.0</td>\n",
       "      <td>0.0</td>\n",
       "      <td>0.0</td>\n",
       "      <td>0.0</td>\n",
       "      <td>0.0</td>\n",
       "      <td>0.0</td>\n",
       "      <td>0.0</td>\n",
       "      <td>0.25</td>\n",
       "      <td>0.39</td>\n",
       "      <td>0.66</td>\n",
       "    </tr>\n",
       "    <tr>\n",
       "      <th>Mt Darwin District Hospital, Zimbabwe</th>\n",
       "      <td>0.30938</td>\n",
       "      <td>1.992</td>\n",
       "      <td>0.0</td>\n",
       "      <td>0.4802</td>\n",
       "      <td>0.50235</td>\n",
       "      <td>2.4402</td>\n",
       "      <td>0.0</td>\n",
       "      <td>0.0</td>\n",
       "      <td>0.0</td>\n",
       "      <td>0.0</td>\n",
       "      <td>0.0</td>\n",
       "      <td>0.0</td>\n",
       "      <td>0.0</td>\n",
       "      <td>0.25</td>\n",
       "      <td>0.3588</td>\n",
       "      <td>0.6501</td>\n",
       "    </tr>\n",
       "  </tbody>\n",
       "</table>\n",
       "</div>"
      ],
      "text/plain": [
       "                                      SC1 Building energy SC1 Travel  \\\n",
       "Status-quo                                           0.31        2.0   \n",
       "Mt Darwin District Hospital, Zimbabwe             0.30938      1.992   \n",
       "\n",
       "                                      SC1 Refrigerants SC1 Waste  \\\n",
       "Status-quo                                         0.0      0.49   \n",
       "Mt Darwin District Hospital, Zimbabwe              0.0    0.4802   \n",
       "\n",
       "                                      SC1 Anaesthetic gases  \\\n",
       "Status-quo                                             0.51   \n",
       "Mt Darwin District Hospital, Zimbabwe               0.50235   \n",
       "\n",
       "                                      SC2 Purchased and consumed grid electricity  \\\n",
       "Status-quo                                                                   2.45   \n",
       "Mt Darwin District Hospital, Zimbabwe                                      2.4402   \n",
       "\n",
       "                                      SC2 Heat networks  \\\n",
       "Status-quo                                          0.0   \n",
       "Mt Darwin District Hospital, Zimbabwe               0.0   \n",
       "\n",
       "                                      SC3 Building energy (building not owned)  \\\n",
       "Status-quo                                                                 0.0   \n",
       "Mt Darwin District Hospital, Zimbabwe                                      0.0   \n",
       "\n",
       "                                      SC3 Refrigerants (building not owned)  \\\n",
       "Status-quo                                                              0.0   \n",
       "Mt Darwin District Hospital, Zimbabwe                                   0.0   \n",
       "\n",
       "                                      SC3 Travel (vehicles not owned)  \\\n",
       "Status-quo                                                        0.0   \n",
       "Mt Darwin District Hospital, Zimbabwe                             0.0   \n",
       "\n",
       "                                      SC3 Employee business travel-road, rail, air  \\\n",
       "Status-quo                                                                     0.0   \n",
       "Mt Darwin District Hospital, Zimbabwe                                          0.0   \n",
       "\n",
       "                                      SC3 Water SC3 Waste  \\\n",
       "Status-quo                                  0.0       0.0   \n",
       "Mt Darwin District Hospital, Zimbabwe       0.0       0.0   \n",
       "\n",
       "                                      SC3 Contractor logistics SC3 Inhalers  \\\n",
       "Status-quo                                                0.25         0.39   \n",
       "Mt Darwin District Hospital, Zimbabwe                     0.25       0.3588   \n",
       "\n",
       "                                      SC3 Supply chain  \n",
       "Status-quo                                        0.66  \n",
       "Mt Darwin District Hospital, Zimbabwe           0.6501  "
      ]
     },
     "execution_count": 10,
     "metadata": {},
     "output_type": "execute_result"
    }
   ],
   "source": [
    "# Calculate emissions\n",
    "ut.calc_emissions([result_budget],start_year,facility_code,file_name='emissions_budget_scen_{}'.format(facility_code))"
   ]
  },
  {
   "cell_type": "code",
   "execution_count": 11,
   "id": "female-clear",
   "metadata": {},
   "outputs": [
    {
     "data": {
      "text/plain": [
       "<Figure size 432x288 with 0 Axes>"
      ]
     },
     "metadata": {},
     "output_type": "display_data"
    },
    {
     "data": {
      "image/png": "[encoded data removed]",
      "text/plain": [
       "<Figure size 432x288 with 1 Axes>"
      ]
     },
     "metadata": {
      "needs_background": "light"
     },
     "output_type": "display_data"
    },
    {
     "name": "stdout",
     "output_type": "stream",
     "text": [
      "Allocation results saved: results/allocation_budget_scen_mt-darwin_hosp_ZW.xlsx\n",
      "Allocation bar plots saved: figs/allocation_budget_scen_mt-darwin_hosp_ZW.xlsx\n"
     ]
    },
    {
     "data": {
      "text/html": [
       "<div>\n",
       "<style scoped>\n",
       "    .dataframe tbody tr th:only-of-type {\n",
       "        vertical-align: middle;\n",
       "    }\n",
       "\n",
       "    .dataframe tbody tr th {\n",
       "        vertical-align: top;\n",
       "    }\n",
       "\n",
       "    .dataframe thead th {\n",
       "        text-align: right;\n",
       "    }\n",
       "</style>\n",
       "<table border=\"1\" class=\"dataframe\">\n",
       "  <thead>\n",
       "    <tr style=\"text-align: right;\">\n",
       "      <th></th>\n",
       "      <th>Energy saving LED</th>\n",
       "      <th>Low emitting materials</th>\n",
       "      <th>Electric cars</th>\n",
       "      <th>Low emitting anesthetic gases</th>\n",
       "      <th>Borehole water</th>\n",
       "      <th>Recycling</th>\n",
       "      <th>Low emitting inhalers</th>\n",
       "      <th>Local procurements</th>\n",
       "    </tr>\n",
       "  </thead>\n",
       "  <tbody>\n",
       "    <tr>\n",
       "      <th>Mt Darwin District Hospital, Zimbabwe</th>\n",
       "      <td>100000.0</td>\n",
       "      <td>100000.0</td>\n",
       "      <td>100000.0</td>\n",
       "      <td>100000.0</td>\n",
       "      <td>100000.0</td>\n",
       "      <td>100000.0</td>\n",
       "      <td>100000.0</td>\n",
       "      <td>100000.0</td>\n",
       "    </tr>\n",
       "  </tbody>\n",
       "</table>\n",
       "</div>"
      ],
      "text/plain": [
       "                                      Energy saving LED  \\\n",
       "Mt Darwin District Hospital, Zimbabwe          100000.0   \n",
       "\n",
       "                                      Low emitting materials Electric cars  \\\n",
       "Mt Darwin District Hospital, Zimbabwe               100000.0      100000.0   \n",
       "\n",
       "                                      Low emitting anesthetic gases  \\\n",
       "Mt Darwin District Hospital, Zimbabwe                      100000.0   \n",
       "\n",
       "                                      Borehole water Recycling  \\\n",
       "Mt Darwin District Hospital, Zimbabwe       100000.0  100000.0   \n",
       "\n",
       "                                      Low emitting inhalers Local procurements  \n",
       "Mt Darwin District Hospital, Zimbabwe              100000.0           100000.0  "
      ]
     },
     "execution_count": 11,
     "metadata": {},
     "output_type": "execute_result"
    }
   ],
   "source": [
    "# Calculate allocation\n",
    "ut.calc_allocation([result_budget],file_name='allocation_budget_scen_{}'.format(facility_code)) # allocation"
   ]
  }
 ],
 "metadata": {
  "jupytext": {
   "cell_metadata_filter": "-all",
   "main_language": "python",
   "notebook_metadata_filter": "-all"
  },
  "kernelspec": {
   "display_name": "Python 3",
   "language": "python",
   "name": "python3"
  },
  "language_info": {
   "codemirror_mode": {
    "name": "ipython",
    "version": 3
   },
   "file_extension": ".py",
   "mimetype": "text/x-python",
   "name": "python",
   "nbconvert_exporter": "python",
   "pygments_lexer": "ipython3",
   "version": "3.8.5"
  }
 },
 "nbformat": 4,
 "nbformat_minor": 5
}
