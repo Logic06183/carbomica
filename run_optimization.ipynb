{
 "cells": [
  {
   "cell_type": "code",
   "execution_count": 1,
   "id": "pleased-memory",
   "metadata": {},
   "outputs": [
    {
     "data": {
      "text/plain": [
       "'\\nScript to optimize spending given a budget.\\n'"
      ]
     },
     "execution_count": 1,
     "metadata": {},
     "output_type": "execute_result"
    }
   ],
   "source": [
    "import sys\n",
    "sys.path.append('C:/Users/farah.houdroge/Documents/GitHub/atomica')\n",
    "import atomica as at\n",
    "import numpy as np\n",
    "import utils as ut\n",
    "import os\n",
    "if not os.path.exists('results'): os.makedirs('results')\n",
    "if not os.path.exists('figs'): os.makedirs('figs')\n",
    "'''\n",
    "Script to optimize spending given a budget.\n",
    "'''"
   ]
  },
  {
   "cell_type": "code",
   "execution_count": 2,
   "id": "partial-cannon",
   "metadata": {},
   "outputs": [],
   "source": [
    "facility_code = 'mt-darwin_hosp_ZW' # specify facility code\n",
    "facility_name = 'Mt Darwin District Hospital, Zimbabwe' # specify facility name"
   ]
  },
  {
   "cell_type": "code",
   "execution_count": 3,
   "id": "another-stock",
   "metadata": {},
   "outputs": [],
   "source": [
    "# Atomica project definition\n",
    "P = at.Project(framework='carbomica_framework.xlsx', databook='books/carbomica_databook.xlsx',do_run=False)"
   ]
  },
  {
   "cell_type": "code",
   "execution_count": 4,
   "id": "baking-salem",
   "metadata": {},
   "outputs": [],
   "source": [
    "P.settings.sim_dt    = 1 # simulation timestep\n",
    "P.settings.sim_start = 2010 # simulation start year\n",
    "P.settings.sim_end   = 2030 # simulation end year"
   ]
  },
  {
   "cell_type": "code",
   "execution_count": 5,
   "id": "labeled-halifax",
   "metadata": {},
   "outputs": [],
   "source": [
    "# Load program and define variables for program runs\n",
    "progset = P.load_progbook('books/carbomica_progbook_{}.xlsx'.format(facility_code))"
   ]
  },
  {
   "cell_type": "code",
   "execution_count": 6,
   "id": "sensitive-service",
   "metadata": {},
   "outputs": [],
   "source": [
    "start_year = 2024 # programs start year"
   ]
  },
  {
   "cell_type": "code",
   "execution_count": 7,
   "id": "designed-index",
   "metadata": {},
   "outputs": [],
   "source": [
    "# Baseline spending\n",
    "instructions = at.ProgramInstructions(alloc=P.progsets[0], start_year=start_year)"
   ]
  },
  {
   "cell_type": "code",
   "execution_count": 8,
   "id": "national-dominant",
   "metadata": {},
   "outputs": [],
   "source": [
    "# Adjustments (spending constraint for each program)\n",
    "adjustments = [at.SpendingAdjustment(prog, start_year, 'abs', 0.0, 1e6) for prog in progset.programs.keys()]"
   ]
  },
  {
   "cell_type": "code",
   "execution_count": 9,
   "id": "equivalent-philip",
   "metadata": {},
   "outputs": [],
   "source": [
    "# Measurables (objective function: minimize total emissions)\n",
    "measurables = [at.MinimizeMeasurable('co2e_emissions_actual',[start_year,np.inf])]"
   ]
  },
  {
   "cell_type": "code",
   "execution_count": 10,
   "id": "structural-burke",
   "metadata": {},
   "outputs": [],
   "source": [
    "# Loop over budgets\n",
    "budgets = [2e3, 5e3, 10e3]\n",
    "results_optimized = []"
   ]
  },
  {
   "cell_type": "code",
   "execution_count": 11,
   "id": "detected-prospect",
   "metadata": {},
   "outputs": [
    {
     "name": "stdout",
     "output_type": "stream",
     "text": [
      "No constraints given.\n",
      "New best for swarm at iteration 1: [      0.          777832.87788029 1000000.         1000000.\n",
      "  244033.61810093       0.               0.         1000000.        ] 190.6430776968686\n",
      "New best for swarm at iteration 1: [ 334949.0975101     4005.42945169  632275.68939179 1000000.\n",
      "       0.          229339.50987159  875427.21205312  252663.73390294] 190.1968842736439\n",
      "New best for swarm at iteration 1: [ 309146.819527    170204.80226797  651468.76796131 1000000.\n",
      "  449156.35821208  190224.164374    263071.96241014       0.        ] 189.64165232130807\n",
      "New best for swarm at iteration 1: [255558.23151838      0.         590357.5580585  868191.05551413\n",
      "      0.          34330.63648879 557647.49673893  17073.43239796] 189.45328531730667\n",
      "Best after iteration 1: [255558.23151838      0.         590357.5580585  868191.05551413\n",
      "      0.          34330.63648879 557647.49673893  17073.43239796] 189.45328531730667\n",
      "New best for swarm at iteration 2: [ 330834.96110455  353262.72329046 1000000.         1000000.\n",
      "  128068.78401954       0.          200970.14443259  142192.59834871] 189.3498251079621\n",
      "New best for swarm at iteration 2: [  27472.50928073       0.          715253.72881205 1000000.\n",
      "       0.               0.          574055.98448665       0.        ] 189.31071803209733\n",
      "New best for swarm at iteration 2: [      0.               0.         1000000.          998379.3824856\n",
      "       0.               0.          672283.61224395       0.        ] 189.13916424738676\n",
      "Best after iteration 2: [      0.               0.         1000000.          998379.3824856\n",
      "       0.               0.          672283.61224395       0.        ] 189.13916424738676\n",
      "New best for swarm at iteration 3: [  82819.43055954  201063.76403209 1000000.         1000000.\n",
      "       0.               0.          286068.38232462       0.        ] 189.1008559651401\n",
      "New best for swarm at iteration 3: [      0.              0.        1000000.        1000000.\n",
      "       0.              0.         546112.0324303       0.       ] 189.0913443668333\n",
      "Best after iteration 3: [      0.              0.        1000000.        1000000.\n",
      "       0.              0.         546112.0324303       0.       ] 189.0913443668333\n",
      "Stopping search: maximum iterations reached --> 3\n",
      "Elapsed time for running \"default\": 0.0152s\n",
      "No constraints given.\n",
      "New best for swarm at iteration 1: [ 150801.59493287 1000000.         1000000.          806070.7316259\n",
      "  205115.27935165   19142.59060243       0.          760282.96214829] 188.46076856855268\n",
      "New best for swarm at iteration 1: [ 111157.88957078  220143.20666558  734141.6621629  1000000.\n",
      "       0.          121531.47789817  278782.28498117  208333.85474786] 188.32486348846595\n",
      "Best after iteration 1: [ 111157.88957078  220143.20666558  734141.6621629  1000000.\n",
      "       0.          121531.47789817  278782.28498117  208333.85474786] 188.32486348846595\n",
      "New best for swarm at iteration 2: [599121.87269166  76329.21689688 854914.46219018 664988.32558871\n",
      "      0.              0.         646366.63529345 249138.09977547] 188.31144672288195\n",
      "New best for swarm at iteration 2: [     0.          49087.88710155 673472.01783495 349472.5055153\n",
      "      0.         290354.58035884 905891.84975738      0.        ] 188.17885978821994\n",
      "New best for swarm at iteration 2: [      0.               0.          715592.73269841 1000000.\n",
      "       0.          137182.80312215  160960.96357364       0.        ] 187.79739081388948\n",
      "New best for swarm at iteration 2: [1.79781270e+05 3.58010650e+02 1.00000000e+06 1.00000000e+06\n",
      " 0.00000000e+00 3.45683692e+05 2.02174515e+05 0.00000000e+00] 187.72420255208482\n",
      "New best for swarm at iteration 2: [     0.         208064.95495761 977595.61491621 735756.64177449\n",
      " 152788.86529053  55690.51759512  46163.13339072      0.        ] 187.1845623594748\n",
      "Best after iteration 2: [     0.         208064.95495761 977595.61491621 735756.64177449\n",
      " 152788.86529053  55690.51759512  46163.13339072      0.        ] 187.1845623594748\n",
      "New best for swarm at iteration 3: [      0.          399783.78287035 1000000.          170889.54875438\n",
      "  300014.17555473  205248.31255841   51020.32887314   17477.87924175] 187.0731299187098\n",
      "New best for swarm at iteration 3: [     0.          66472.86754703 756121.99651867 148913.95978109\n",
      " 299859.63089794 223579.54600937      0.              0.        ] 186.8155752341424\n",
      "Best after iteration 3: [     0.          66472.86754703 756121.99651867 148913.95978109\n",
      " 299859.63089794 223579.54600937      0.              0.        ] 186.8155752341424\n",
      "Stopping search: maximum iterations reached --> 3\n",
      "Elapsed time for running \"default\": 0.0259s\n",
      "No constraints given.\n",
      "Best after iteration 1: [158825.01170779 451167.06247697 965635.6384981  306474.59892312\n",
      " 339723.69758626 424225.52838318 178063.19604002 263130.64036329] 186.16311408737914\n",
      "Best after iteration 2: [158825.01170779 451167.06247697 965635.6384981  306474.59892312\n",
      " 339723.69758626 424225.52838318 178063.19604002 263130.64036329] 186.16311408737914\n",
      "Best after iteration 3: [158825.01170779 451167.06247697 965635.6384981  306474.59892312\n",
      " 339723.69758626 424225.52838318 178063.19604002 263130.64036329] 186.16311408737914\n",
      "Stopping search: maximum iterations reached --> 3\n",
      "Elapsed time for running \"default\": 0.0210s\n"
     ]
    }
   ],
   "source": [
    "for budget in budgets:\n",
    "    constraints = at.TotalSpendConstraint(total_spend=budget, t=start_year) # constraint on total spending\n",
    "\n",
    "    # Run optimization\n",
    "    optimization = at.Optimization(name='default', method='pso',\n",
    "                                   adjustments=adjustments, measurables=measurables, constraints=constraints)\n",
    "    optimized_instructions = at.optimize(P, optimization, P.parsets[0],P.progsets[0], instructions=instructions)\n",
    "    result_optimized = P.run_sim(P.parsets[0],P.progsets[0], progset_instructions=optimized_instructions)\n",
    "\n",
    "    # Compile results\n",
    "    opt_name = '${}k'.format(budget/1e3)\n",
    "    result_optimized.name = opt_name\n",
    "    results_optimized.append(result_optimized)"
   ]
  },
  {
   "cell_type": "code",
   "execution_count": 12,
   "id": "approximate-murder",
   "metadata": {},
   "outputs": [
    {
     "data": {
      "text/plain": [
       "<Figure size 432x288 with 0 Axes>"
      ]
     },
     "metadata": {},
     "output_type": "display_data"
    },
    {
     "data": {
      "image/png": "[encoded data removed]",
      "text/plain": [
       "<Figure size 432x288 with 1 Axes>"
      ]
     },
     "metadata": {
      "needs_background": "light"
     },
     "output_type": "display_data"
    },
    {
     "name": "stdout",
     "output_type": "stream",
     "text": [
      "Emissions results saved: results/emissions_optimized_mt-darwin_hosp_ZW.xlsx\n",
      "Emissions bar plots saved: figs/emissions_optimized_mt-darwin_hosp_ZW.xlsx\n"
     ]
    },
    {
     "data": {
      "text/html": [
       "<div>\n",
       "<style scoped>\n",
       "    .dataframe tbody tr th:only-of-type {\n",
       "        vertical-align: middle;\n",
       "    }\n",
       "\n",
       "    .dataframe tbody tr th {\n",
       "        vertical-align: top;\n",
       "    }\n",
       "\n",
       "    .dataframe thead th {\n",
       "        text-align: right;\n",
       "    }\n",
       "</style>\n",
       "<table border=\"1\" class=\"dataframe\">\n",
       "  <thead>\n",
       "    <tr style=\"text-align: right;\">\n",
       "      <th></th>\n",
       "      <th>Total CO2e emissions</th>\n",
       "    </tr>\n",
       "  </thead>\n",
       "  <tbody>\n",
       "    <tr>\n",
       "      <th>Status-quo</th>\n",
       "      <td>7.06</td>\n",
       "    </tr>\n",
       "    <tr>\n",
       "      <th>$2.0k</th>\n",
       "      <td>5.995719</td>\n",
       "    </tr>\n",
       "    <tr>\n",
       "      <th>$5.0k</th>\n",
       "      <td>5.670609</td>\n",
       "    </tr>\n",
       "    <tr>\n",
       "      <th>$10.0k</th>\n",
       "      <td>5.5774</td>\n",
       "    </tr>\n",
       "  </tbody>\n",
       "</table>\n",
       "</div>"
      ],
      "text/plain": [
       "           Total CO2e emissions\n",
       "Status-quo                 7.06\n",
       "$2.0k                  5.995719\n",
       "$5.0k                  5.670609\n",
       "$10.0k                   5.5774"
      ]
     },
     "execution_count": 12,
     "metadata": {},
     "output_type": "execute_result"
    }
   ],
   "source": [
    "ut.calc_emissions(results_optimized,start_year,facility_code,file_name='emissions_optimized_{}'.format(facility_code))"
   ]
  },
  {
   "cell_type": "code",
   "execution_count": 13,
   "id": "sufficient-hospital",
   "metadata": {},
   "outputs": [
    {
     "data": {
      "text/plain": [
       "<Figure size 432x288 with 0 Axes>"
      ]
     },
     "metadata": {},
     "output_type": "display_data"
    },
    {
     "data": {
      "image/png": "[encoded data removed]",
      "text/plain": [
       "<Figure size 432x288 with 1 Axes>"
      ]
     },
     "metadata": {
      "needs_background": "light"
     },
     "output_type": "display_data"
    },
    {
     "name": "stdout",
     "output_type": "stream",
     "text": [
      "Allocation results saved: results/allocation_optimized_mt-darwin_hosp_ZW.xlsx\n",
      "Allocation bar plots saved: figs/allocation_optimized_mt-darwin_hosp_ZW.xlsx\n"
     ]
    },
    {
     "data": {
      "text/html": [
       "<div>\n",
       "<style scoped>\n",
       "    .dataframe tbody tr th:only-of-type {\n",
       "        vertical-align: middle;\n",
       "    }\n",
       "\n",
       "    .dataframe tbody tr th {\n",
       "        vertical-align: top;\n",
       "    }\n",
       "\n",
       "    .dataframe thead th {\n",
       "        text-align: right;\n",
       "    }\n",
       "</style>\n",
       "<table border=\"1\" class=\"dataframe\">\n",
       "  <thead>\n",
       "    <tr style=\"text-align: right;\">\n",
       "      <th></th>\n",
       "      <th>Energy saving LED</th>\n",
       "      <th>Low emitting materials</th>\n",
       "      <th>Electric cars</th>\n",
       "      <th>Low emitting anesthetic gases</th>\n",
       "      <th>Borehole water</th>\n",
       "      <th>Recycling</th>\n",
       "      <th>Low emitting inhalers</th>\n",
       "      <th>Local procurements</th>\n",
       "    </tr>\n",
       "  </thead>\n",
       "  <tbody>\n",
       "    <tr>\n",
       "      <th>$2.0k</th>\n",
       "      <td>0.0</td>\n",
       "      <td>0.0</td>\n",
       "      <td>785.511389</td>\n",
       "      <td>785.511389</td>\n",
       "      <td>0.0</td>\n",
       "      <td>0.0</td>\n",
       "      <td>428.977221</td>\n",
       "      <td>0.0</td>\n",
       "    </tr>\n",
       "    <tr>\n",
       "      <th>$5.0k</th>\n",
       "      <td>0.0</td>\n",
       "      <td>222.325016</td>\n",
       "      <td>2528.92407</td>\n",
       "      <td>498.057323</td>\n",
       "      <td>1002.909903</td>\n",
       "      <td>747.783688</td>\n",
       "      <td>0.0</td>\n",
       "      <td>0.0</td>\n",
       "    </tr>\n",
       "    <tr>\n",
       "      <th>$10.0k</th>\n",
       "      <td>514.455421</td>\n",
       "      <td>1461.390359</td>\n",
       "      <td>3127.822772</td>\n",
       "      <td>992.712149</td>\n",
       "      <td>1100.410419</td>\n",
       "      <td>1374.123132</td>\n",
       "      <td>576.770468</td>\n",
       "      <td>852.315279</td>\n",
       "    </tr>\n",
       "  </tbody>\n",
       "</table>\n",
       "</div>"
      ],
      "text/plain": [
       "       Energy saving LED Low emitting materials Electric cars  \\\n",
       "$2.0k                0.0                    0.0    785.511389   \n",
       "$5.0k                0.0             222.325016    2528.92407   \n",
       "$10.0k        514.455421            1461.390359   3127.822772   \n",
       "\n",
       "       Low emitting anesthetic gases Borehole water    Recycling  \\\n",
       "$2.0k                     785.511389            0.0          0.0   \n",
       "$5.0k                     498.057323    1002.909903   747.783688   \n",
       "$10.0k                    992.712149    1100.410419  1374.123132   \n",
       "\n",
       "       Low emitting inhalers Local procurements  \n",
       "$2.0k             428.977221                0.0  \n",
       "$5.0k                    0.0                0.0  \n",
       "$10.0k            576.770468         852.315279  "
      ]
     },
     "execution_count": 13,
     "metadata": {},
     "output_type": "execute_result"
    }
   ],
   "source": [
    "ut.calc_allocation(results_optimized,file_name='allocation_optimized_{}'.format(facility_code)) # allocation"
   ]
  }
 ],
 "metadata": {
  "jupytext": {
   "cell_metadata_filter": "-all",
   "main_language": "python",
   "notebook_metadata_filter": "-all"
  },
  "kernelspec": {
   "display_name": "Python 3",
   "language": "python",
   "name": "python3"
  },
  "language_info": {
   "codemirror_mode": {
    "name": "ipython",
    "version": 3
   },
   "file_extension": ".py",
   "mimetype": "text/x-python",
   "name": "python",
   "nbconvert_exporter": "python",
   "pygments_lexer": "ipython3",
   "version": "3.8.5"
  }
 },
 "nbformat": 4,
 "nbformat_minor": 5
}
